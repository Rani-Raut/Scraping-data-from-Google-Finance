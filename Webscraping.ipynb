{
 "cells": [
  {
   "cell_type": "code",
   "execution_count": 1,
   "metadata": {},
   "outputs": [
    {
     "name": "stderr",
     "output_type": "stream",
     "text": [
      "C:\\Users\\Rani\\anaconda3\\lib\\site-packages\\requests\\__init__.py:89: RequestsDependencyWarning: urllib3 (1.26.7) or chardet (3.0.4) doesn't match a supported version!\n",
      "  warnings.warn(\"urllib3 ({}) or chardet ({}) doesn't match a supported \"\n"
     ]
    }
   ],
   "source": [
    "#import packages\n",
    "import requests\n",
    "from bs4 import BeautifulSoup\n",
    "import re\n",
    "import json\n",
    "import os\n",
    "import sqlite3 as sql\n",
    "import numpy as np\n",
    "import pandas as pd\n",
    "from lxml import html\n",
    "from selenium import webdriver\n",
    "\n"
   ]
  },
  {
   "cell_type": "code",
   "execution_count": 2,
   "metadata": {},
   "outputs": [
    {
     "name": "stdout",
     "output_type": "stream",
     "text": [
      "{'F': 'Ford Motor Co', 'CCL': 'Carnival Corp', 'T': 'AT&T Inc', 'BAC': 'Bank of America Corp', 'NCLH': 'Norwegian Cruise Line Holdings Ltd', 'PFE': 'Pfizer Inc', 'WFC': 'Wells Fargo & Co', 'DAL': 'Delta Air Lines Inc', 'C': 'Citigroup Inc', 'TWTR': 'Twitter Inc'}\n"
     ]
    }
   ],
   "source": [
    "# initializing http headers and url for web scraping\n",
    "headers = {'User-Agent': 'Mozilla/5.0 (Windows NT 10.0; Win64; x64) AppleWebKit/537.36 (KHTML, like Gecko) Chrome/96.0.4664.45 Safari/537.36'}\n",
    "url = \"https://money.cnn.com/data/hotstocks/\"\n",
    "\n",
    "stock_symbl = {}\n",
    "data = requests.get(url)\n",
    "soup = BeautifulSoup(data.text, 'html.parser')\n",
    "\n",
    "# Get live active tickers from https://money.cnn.com/data/hotstocks/\n",
    "for i in range(1,11):\n",
    "    name = list(soup.find('table', {'class':'wsod_dataTable wsod_dataTableBigAlt'}).find_all('tr')[i].text.split(\"\\n\"))[1]\n",
    "    for i in range(len(name)):\n",
    "        symbol, stock_name = name.split(' ', 1)\n",
    "        stock_symbl[symbol] = stock_name\n",
    "        \n",
    "print(stock_symbl)\n"
   ]
  },
  {
   "cell_type": "code",
   "execution_count": 3,
   "metadata": {},
   "outputs": [
    {
     "name": "stdout",
     "output_type": "stream",
     "text": [
      "[[], [], [], [], [], [], [], [], [], []]\n",
      "[['$19.14', '$18.61 - $19.49', '$8.43 - $20.79', '76.49B USD', '107.59M', '27.26', '2.08%', 'NYSE', 'A', 'Jim Farley', 'Jun 16, 1903', 'Dearborn, MichiganUnited States', 'ford.com', '186,000'], ['$17.20', '$17.40 - $19.19', '$16.32 - $31.52', '21.26B USD', '37.40M', '-', '-', 'NYSE', 'C', '1972', 'Miami, FloridaUnited States', 'carnivalcorp.com', '70,000'], ['$23.46', '$23.31 - $23.94', '$22.22 - $33.88', '166.56B USD', '48.89M', '196.77', '8.92%', 'NYSE', 'A-', 'John T. Stankey', 'Oct 5, 1983', 'Dallas, TexasUnited States', 'att.com', '230,000'], ['$43.87', '$43.96 - $44.88', '$28.14 - $48.69', '362.64B USD', '43.56M', '13.28', '1.90%', 'NYSE', 'A', 'Brian Moynihan', '1998', 'bankofamerica.com', '209,000'], ['$18.29', '$18.31 - $20.73', '$17.78 - $34.49', '8.42B USD', '21.45M', '-', '-', 'NYSE', 'B', 'Frank J. Del Rio', '1966', 'Miami, FloridaUnited States', 'nclhltd.com', '34,300'], ['$54.26', '$51.62 - $53.89', '$33.36 - $55.70', '304.61B USD', '43.15M', '15.34', '3.02%', 'NYSE', 'B', 'Albert Bourla', '1849', 'New York, New YorkUnited States', 'pfizer.com', '78,500'], ['$47.74', '$48.74 - $49.90', '$28.40 - $52.57', '190.39B USD', '23.90M', '11.70', '1.63%', 'NYSE', 'A-', 'Charles W. Scharf', '1852', 'San Francisco, CaliforniaUnited States', 'wellsfargo.com', '253,871'], ['$35.99', '$37.01 - $39.33', '$33.40 - $52.28', '23.03B USD', '14.17M', '-', '-', 'NYSE', 'B', 'Ed Bastian', 'Mar 2, 1925', 'Atlanta, GeorgiaUnited States', 'delta.com', '74,000'], ['$62.76', '$62.14 - $63.57', '$57.28 - $80.29', '124.42B USD', '21.06M', '6.04', '3.25%', 'NYSE', 'A-', 'Jane Fraser', 'Oct 8, 1998', 'New York, New YorkUnited States', 'citigroup.com', '220,000'], ['$42.06', '$41.75 - $44.72', '$41.01 - $80.75', '35.39B USD', '20.84M', '-', '-', 'NYSE', 'Mar 21, 2006', 'San Francisco, CaliforniaUnited States', 'twitter.com', '5,500']]\n"
     ]
    }
   ],
   "source": [
    "#Scraping data from google finance website\n",
    "#chromedrivers file need to be placed in the current working directory for selenium drivers\n",
    "#to successfully execute scraping data from google finance website\n",
    "stock_values = {}\n",
    "openprice = 0\n",
    "avg_volume = 0\n",
    "pe_ratio = 0\n",
    "stock_data = [[] for i in range(len(stock_symbl.keys()))]\n",
    "cnt = 0\n",
    "print(stock_data)\n",
    "\n",
    "for symbol, stock_name in stock_symbl.items():\n",
    "    google_url = f\"https://www.google.com/finance/quote/{symbol}:NYSE\"\n",
    "    browser = webdriver.Chrome()\n",
    "    browser.get(google_url)\n",
    "    html_source = browser.page_source\n",
    "    browser.quit()\n",
    "    soup = BeautifulSoup(html_source, \"lxml\")\n",
    "    for el in soup.find_all(\"div\", {\"class\": \"P6K39c\"}):\n",
    "        \n",
    "        stock_data[cnt].append(el.get_text())\n",
    "        \n",
    "    cnt += 1\n",
    "    \n",
    "        \n",
    "print(stock_data)"
   ]
  },
  {
   "cell_type": "code",
   "execution_count": 4,
   "metadata": {},
   "outputs": [
    {
     "name": "stdout",
     "output_type": "stream",
     "text": [
      "{'F': ['$18.61 ', '107.59M', '27.26'], 'CCL': ['$17.40 ', '37.40M', '-'], 'T': ['$23.31 ', '48.89M', '196.77'], 'BAC': ['$43.96 ', '43.56M', '13.28'], 'NCLH': ['$18.31 ', '21.45M', '-'], 'PFE': ['$51.62 ', '43.15M', '15.34'], 'WFC': ['$48.74 ', '23.90M', '11.70'], 'DAL': ['$37.01 ', '14.17M', '-'], 'C': ['$62.14 ', '21.06M', '6.04'], 'TWTR': ['$41.75 ', '20.84M', '-']}\n"
     ]
    }
   ],
   "source": [
    "# combining active tickers with that corresponding open_price,avg_volume,pe_ratio values in the format of dictionary\n",
    "for (symbol, stockdata) in zip(stock_symbl.keys(), stock_data):\n",
    "    \n",
    "    stock_values[symbol] = [stockdata[1].split(\"-\")[0], stockdata[4], stockdata[5]]\n",
    "        \n",
    "print(stock_values)\n",
    "\n"
   ]
  },
  {
   "cell_type": "code",
   "execution_count": 5,
   "metadata": {},
   "outputs": [
    {
     "name": "stdout",
     "output_type": "stream",
     "text": [
      "Writing file successful!\n"
     ]
    }
   ],
   "source": [
    "# Writing data to file\n",
    "\n",
    "try:\n",
    "    if os.path.exists(\"stocks.txt\"):\n",
    "        os.remove('stocks.txt')\n",
    "    with open('stocks.txt', 'w') as f:\n",
    "        f.write(f\"Symbol\\t OpenPrice\\t Volume\\t\\t PeRatio\\n\")\n",
    "        for key, value in stock_values.items():\n",
    "            f.write(f\"{key},\\t {value[0]},\\t {value[1]},\\t {value[2]}\\n\")\n",
    "        print(\"Writing file successful!\")\n",
    "except Exception as e:\n",
    "    print(\"Error while writing file!\")\n",
    "    "
   ]
  },
  {
   "cell_type": "code",
   "execution_count": 6,
   "metadata": {},
   "outputs": [
    {
     "name": "stdout",
     "output_type": "stream",
     "text": [
      "Connection to database successful!\n",
      "[('STOCK',)]\n",
      "[('F', '$18.61 ', '107.59M', 27.49), ('CCL', '$17.40 ', '37.40M', '-'), ('T', '$23.33 ', '48.89M', 197.02), ('BAC', '$43.96 ', '43.56M', 13.33), ('NCLH', '$18.31 ', '21.45M', '-'), ('PFE', '$51.62 ', '43.15M', 15.33), ('WFC', '$48.74 ', '23.90M', 11.71), ('DAL', '$37.01 ', '14.17M', '-'), ('C', '$62.14 ', '21.06M', 6.06), ('TWTR', '$41.75 ', '20.84M', '-'), ('F', '$18.61 ', '107.59M', 27.26), ('CCL', '$17.40 ', '37.40M', '-'), ('T', '$23.31 ', '48.89M', 196.77), ('BAC', '$43.96 ', '43.56M', 13.28), ('NCLH', '$18.31 ', '21.45M', '-'), ('PFE', '$51.62 ', '43.15M', 15.34), ('WFC', '$48.74 ', '23.90M', 11.7), ('DAL', '$37.01 ', '14.17M', '-'), ('C', '$62.14 ', '21.06M', 6.04), ('TWTR', '$41.75 ', '20.84M', '-')]\n"
     ]
    }
   ],
   "source": [
    "# Inserting data into sqlite database\n",
    "\n",
    "database = \"./StocksDatabase.db\"\n",
    "\n",
    "try:\n",
    "    connection = sql.connect(database, timeout=10)\n",
    "    if connection:\n",
    "        print(\"Connection to database successful!\")\n",
    "        \n",
    "    cursor = connection.cursor()\n",
    "    \n",
    "    cursor.execute(\"CREATE TABLE IF NOT EXISTS STOCK (TickerSymbol TEXT NOT NULL, OpenPrice REAL, Volume INTEGER, PERatio REAL DEFAULT 0)\")\n",
    "    print(cursor.execute(\"SELECT name FROM sqlite_master WHERE type='table'\").fetchall())\n",
    "    \n",
    "    for key, value in stock_values.items():\n",
    "        cursor.execute(\"INSERT INTO STOCK (TickerSymbol, OpenPrice, Volume, PERatio) VALUES (?,?,?,?)\", (key, value[0], value[1], value[2]))\n",
    "    connection.commit()\n",
    "   \n",
    "    cursor.execute(\"SELECT * FROM STOCK\")\n",
    "    print(cursor.fetchall())\n",
    "    connection.close()\n",
    "    \n",
    "except sql.Error as e:\n",
    "    print(e)\n",
    "finally:\n",
    "    connection.close()"
   ]
  },
  {
   "cell_type": "code",
   "execution_count": null,
   "metadata": {},
   "outputs": [],
   "source": []
  }
 ],
 "metadata": {
  "kernelspec": {
   "display_name": "Python 3",
   "language": "python",
   "name": "python3"
  },
  "language_info": {
   "codemirror_mode": {
    "name": "ipython",
    "version": 3
   },
   "file_extension": ".py",
   "mimetype": "text/x-python",
   "name": "python",
   "nbconvert_exporter": "python",
   "pygments_lexer": "ipython3",
   "version": "3.8.5"
  }
 },
 "nbformat": 4,
 "nbformat_minor": 4
}
